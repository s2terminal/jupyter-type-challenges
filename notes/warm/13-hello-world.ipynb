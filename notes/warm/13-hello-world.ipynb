{
 "cells": [
  {
   "cell_type": "markdown",
   "id": "65785709-7626-470a-8426-beebac01302c",
   "metadata": {},
   "source": [
    "  13 - Hello World\n",
    "  -------\n",
    "  by Anthony Fu (@antfu) #お試し\n",
    "\n",
    "  ### 質問\n",
    "\n",
    "  Hello, World!\n",
    "\n",
    "  Type Challenges では、型システム自体を使用してアサーションを実行します。\n",
    "\n",
    "  この課題では、次のコードを変更してテストに合格する必要があります（型チェックエラーなし）。\n",
    "\n",
    "  ```ts\n",
    "  // expected to be string\n",
    "  type HelloWorld = any\n",
    "  ```\n",
    "\n",
    "  ```ts\n",
    "  // you should make this work\n",
    "  type test = Expect<Equal<HelloWorld, string>>\n",
    "  ```\n",
    "\n",
    "  「挑戦する」ボタンをクリックしてコーディングを開始してください！ Happy Hacking！\n",
    "\n",
    "  > GitHubで確認する：https://tsch.js.org/13/ja\n"
   ]
  },
  {
   "cell_type": "code",
   "execution_count": 2,
   "id": "3a428133",
   "metadata": {},
   "outputs": [],
   "source": [
    "/* _____________ ここにコードを記入 _____________ */\n",
    "type HelloWorld = any // expected to be a string"
   ]
  },
  {
   "cell_type": "code",
   "execution_count": 3,
   "id": "ad193df5",
   "metadata": {},
   "outputs": [],
   "source": [
    "/* _____________ テストケース _____________ */\n",
    "import type { Equal, Expect, NotAny } from '@type-challenges/utils'\n",
    "\n",
    "type cases = [\n",
    "  Expect<NotAny<HelloWorld>>,\n",
    "  Expect<Equal<HelloWorld, string>>,\n",
    "]\n",
    "\n",
    "/* _____________ 次のステップ _____________ */\n",
    "/*\n",
    "  > 解答を共有する：https://tsch.js.org/13/answer/ja\n",
    "  > 解答を見る：https://tsch.js.org/13/solutions\n",
    "  > その他の課題：https://tsch.js.org/ja\n",
    "*/"
   ]
  }
 ],
 "metadata": {
  "kernelspec": {
   "display_name": "Deno",
   "language": "typescript",
   "name": "deno"
  },
  "language_info": {
   "codemirror_mode": "typescript",
   "file_extension": ".ts",
   "mimetype": "text/x.typescript",
   "name": "typescript",
   "nbconvert_exporter": "script",
   "pygments_lexer": "typescript",
   "version": "5.7.3"
  }
 },
 "nbformat": 4,
 "nbformat_minor": 5
}
