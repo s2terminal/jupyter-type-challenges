{
 "cells": [
  {
   "cell_type": "markdown",
   "id": "22cbed14",
   "metadata": {},
   "source": [
    "  4 - Pick\n",
    "  -------\n",
    "  by Anthony Fu (@antfu) #初級 #union #built-in\n",
    "\n",
    "  ### 質問\n",
    "\n",
    "  組み込みの型ユーティリティ`Pick<T, K>`を使用せず、`T`から`K`のプロパティを抽出する型を実装します。\n",
    "\n",
    "  例えば：\n",
    "\n",
    "  ```ts\n",
    "  interface Todo {\n",
    "    title: string\n",
    "    description: string\n",
    "    completed: boolean\n",
    "  }\n",
    "\n",
    "  type TodoPreview = MyPick<Todo, 'title' | 'completed'>\n",
    "\n",
    "  const todo: TodoPreview = {\n",
    "      title: 'Clean room',\n",
    "      completed: false,\n",
    "  }\n",
    "  ```\n",
    "\n",
    "  > GitHubで確認する：https://tsch.js.org/4/ja\n"
   ]
  },
  {
   "cell_type": "code",
   "execution_count": null,
   "id": "2f49e301",
   "metadata": {},
   "outputs": [],
   "source": [
    "/* _____________ ここにコードを記入 _____________ */\n",
    "// type MyPick<InputType, InputKeys> =\n",
    "//   InputKeys extends string | number | symbol ?\n",
    "//     InputKeys extends keyof InputType ?\n",
    "//       { [K in InputKeys]: InputType[K] } : never : never;\n",
    "\n",
    "type MyPick<InputType, InputKeys extends keyof InputType> =\n",
    "  { [K in InputKeys]: InputType[K] };\n",
    "\n",
    "let _hoge1: MyPick<Todo, 'title' | 'completed'>;\n",
    "let _hoge2: { [K in 'title' | 'completed']: Todo[K] }"
   ]
  },
  {
   "cell_type": "code",
   "execution_count": null,
   "id": "fca7497f",
   "metadata": {},
   "outputs": [],
   "source": [
    "/* _____________ テストケース _____________ */\n",
    "import type { Equal, Expect } from '@type-challenges/utils'\n",
    "\n",
    "type cases = [\n",
    "  Expect<Equal<Expected1, MyPick<Todo, 'title'>>>,\n",
    "  Expect<Equal<Expected2, MyPick<Todo, 'title' | 'completed'>>>,\n",
    "  // @ts-expect-error\n",
    "  MyPick<Todo, 'title' | 'completed' | 'invalid'>,\n",
    "]\n",
    "\n",
    "interface Todo {\n",
    "  title: string\n",
    "  description: string\n",
    "  completed: boolean\n",
    "}\n",
    "\n",
    "interface Expected1 {\n",
    "  title: string\n",
    "}\n",
    "\n",
    "interface Expected2 {\n",
    "  title: string\n",
    "  completed: boolean\n",
    "}\n"
   ]
  }
 ],
 "metadata": {
  "kernelspec": {
   "display_name": "Deno",
   "language": "typescript",
   "name": "deno"
  },
  "language_info": {
   "codemirror_mode": "typescript",
   "file_extension": ".ts",
   "mimetype": "text/x.typescript",
   "name": "typescript",
   "nbconvert_exporter": "script",
   "pygments_lexer": "typescript",
   "version": "5.7.3"
  }
 },
 "nbformat": 4,
 "nbformat_minor": 5
}
